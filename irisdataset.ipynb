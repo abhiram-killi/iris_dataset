{
 "cells": [
  {
   "cell_type": "markdown",
   "id": "5e2e7f31-0989-4778-8fef-5915e90abe44",
   "metadata": {},
   "source": [
    "# Loading the iris dataset"
   ]
  },
  {
   "cell_type": "code",
   "execution_count": 11,
   "id": "444e6ab1-439a-42ac-8ce8-f56b2ad797f7",
   "metadata": {},
   "outputs": [
    {
     "name": "stdout",
     "output_type": "stream",
     "text": [
      "   sepal length (cm)  sepal width (cm)  petal length (cm)  petal width (cm)\n",
      "0                5.1               3.5                1.4               0.2\n",
      "1                4.9               3.0                1.4               0.2\n",
      "2                4.7               3.2                1.3               0.2\n",
      "3                4.6               3.1                1.5               0.2\n",
      "4                5.0               3.6                1.4               0.2\n"
     ]
    },
    {
     "data": {
      "text/plain": [
       "<bound method NDFrame.describe of      sepal length (cm)  sepal width (cm)  petal length (cm)  petal width (cm)\n",
       "0                  5.1               3.5                1.4               0.2\n",
       "1                  4.9               3.0                1.4               0.2\n",
       "2                  4.7               3.2                1.3               0.2\n",
       "3                  4.6               3.1                1.5               0.2\n",
       "4                  5.0               3.6                1.4               0.2\n",
       "..                 ...               ...                ...               ...\n",
       "145                6.7               3.0                5.2               2.3\n",
       "146                6.3               2.5                5.0               1.9\n",
       "147                6.5               3.0                5.2               2.0\n",
       "148                6.2               3.4                5.4               2.3\n",
       "149                5.9               3.0                5.1               1.8\n",
       "\n",
       "[150 rows x 4 columns]>"
      ]
     },
     "execution_count": 11,
     "metadata": {},
     "output_type": "execute_result"
    }
   ],
   "source": [
    "import pandas as pd\n",
    "from sklearn.datasets import load_iris\n",
    "\n",
    "#Load dataset\n",
    "iris = load_iris()\n",
    "df=pd.DataFrame(data=iris.data,columns=iris.feature_names)\n",
    "\n",
    "# Display the first few rows\n",
    "print(df.head())\n",
    "df.describe"
   ]
  },
  {
   "cell_type": "markdown",
   "id": "93a6471c-7d27-47b4-863d-01685fbe476d",
   "metadata": {},
   "source": [
    "# Performing Inferential Statistics"
   ]
  },
  {
   "cell_type": "markdown",
   "id": "f06ce35f-f1d5-403b-ba58-9e908262f32e",
   "metadata": {},
   "source": [
    "# Mean"
   ]
  },
  {
   "cell_type": "code",
   "execution_count": 13,
   "id": "b66a81c4-4eba-4ce4-8d46-487315e8193d",
   "metadata": {},
   "outputs": [
    {
     "name": "stdout",
     "output_type": "stream",
     "text": [
      "Mean:\n",
      " sepal length (cm)    5.843333\n",
      "sepal width (cm)     3.057333\n",
      "petal length (cm)    3.758000\n",
      "petal width (cm)     1.199333\n",
      "dtype: float64\n"
     ]
    }
   ],
   "source": [
    "print(\"Mean:\\n\", df.mean())"
   ]
  },
  {
   "cell_type": "markdown",
   "id": "55692614-e6c6-4f30-96ab-ff7ebc2c1fa9",
   "metadata": {},
   "source": [
    "# Median"
   ]
  },
  {
   "cell_type": "code",
   "execution_count": 15,
   "id": "31a046ee-973f-4614-a0d1-f6f683196d57",
   "metadata": {},
   "outputs": [
    {
     "name": "stdout",
     "output_type": "stream",
     "text": [
      "\n",
      "Median:\n",
      " sepal length (cm)    5.80\n",
      "sepal width (cm)     3.00\n",
      "petal length (cm)    4.35\n",
      "petal width (cm)     1.30\n",
      "dtype: float64\n"
     ]
    }
   ],
   "source": [
    "print(\"\\nMedian:\\n\", df.median())"
   ]
  },
  {
   "cell_type": "markdown",
   "id": "7de3e41c-2e8a-4d02-ae53-1f813e76546a",
   "metadata": {},
   "source": [
    "# Mode"
   ]
  },
  {
   "cell_type": "code",
   "execution_count": 17,
   "id": "1e14fd01-a2f1-418f-a3cc-27920afe0bbc",
   "metadata": {},
   "outputs": [
    {
     "name": "stdout",
     "output_type": "stream",
     "text": [
      "\n",
      "Mode:\n",
      " sepal length (cm)    5.0\n",
      "sepal width (cm)     3.0\n",
      "petal length (cm)    1.4\n",
      "petal width (cm)     0.2\n",
      "Name: 0, dtype: float64\n"
     ]
    }
   ],
   "source": [
    "print(\"\\nMode:\\n\", df.mode().iloc[0])"
   ]
  },
  {
   "cell_type": "markdown",
   "id": "e283b55b-49aa-41cd-92f2-a80f7cda350d",
   "metadata": {},
   "source": [
    "# Standard deviation"
   ]
  },
  {
   "cell_type": "code",
   "execution_count": 19,
   "id": "4343de6f-b8fc-4782-8036-113575805d78",
   "metadata": {},
   "outputs": [
    {
     "name": "stdout",
     "output_type": "stream",
     "text": [
      "\n",
      "Standard Deviation:\n",
      " sepal length (cm)    0.828066\n",
      "sepal width (cm)     0.435866\n",
      "petal length (cm)    1.765298\n",
      "petal width (cm)     0.762238\n",
      "dtype: float64\n"
     ]
    }
   ],
   "source": [
    "print(\"\\nStandard Deviation:\\n\", df.std())"
   ]
  },
  {
   "cell_type": "markdown",
   "id": "aa11bfde-5a9e-4218-a674-a28e88e97a89",
   "metadata": {},
   "source": [
    "# Variance"
   ]
  },
  {
   "cell_type": "code",
   "execution_count": 21,
   "id": "d4baad41-8ea2-49cd-a553-f4229f9ad251",
   "metadata": {},
   "outputs": [
    {
     "name": "stdout",
     "output_type": "stream",
     "text": [
      "\n",
      "Variance:\n",
      " sepal length (cm)    0.685694\n",
      "sepal width (cm)     0.189979\n",
      "petal length (cm)    3.116278\n",
      "petal width (cm)     0.581006\n",
      "dtype: float64\n"
     ]
    }
   ],
   "source": [
    "print(\"\\nVariance:\\n\", df.var())"
   ]
  },
  {
   "cell_type": "markdown",
   "id": "483fc8cc-9ec5-46e3-9b50-a0fe53f29b99",
   "metadata": {},
   "source": [
    "# Additional descriptive statistics\n",
    "# Range"
   ]
  },
  {
   "cell_type": "code",
   "execution_count": 23,
   "id": "f96bd527-5c12-41de-a147-7b11ea1ad848",
   "metadata": {},
   "outputs": [
    {
     "name": "stdout",
     "output_type": "stream",
     "text": [
      "\n",
      "Range:\n",
      " sepal length (cm)    3.6\n",
      "sepal width (cm)     2.4\n",
      "petal length (cm)    5.9\n",
      "petal width (cm)     2.4\n",
      "dtype: float64\n"
     ]
    }
   ],
   "source": [
    "print(\"\\nRange:\\n\", df.max() - df.min())\n"
   ]
  },
  {
   "cell_type": "markdown",
   "id": "cc23d095-ad7a-444d-a129-6c2200da4442",
   "metadata": {},
   "source": [
    "# skewness"
   ]
  },
  {
   "cell_type": "code",
   "execution_count": 25,
   "id": "baaf1bb8-7835-4a2d-a7b7-e9de9be9752b",
   "metadata": {},
   "outputs": [
    {
     "name": "stdout",
     "output_type": "stream",
     "text": [
      "\n",
      "Skewness:\n",
      " sepal length (cm)    0.314911\n",
      "sepal width (cm)     0.318966\n",
      "petal length (cm)   -0.274884\n",
      "petal width (cm)    -0.102967\n",
      "dtype: float64\n"
     ]
    }
   ],
   "source": [
    "print(\"\\nSkewness:\\n\", df.skew())\n"
   ]
  },
  {
   "cell_type": "markdown",
   "id": "77ff61d6-6fa5-4440-88d8-6fd0c38b1e4f",
   "metadata": {},
   "source": [
    "# kurtosis"
   ]
  },
  {
   "cell_type": "code",
   "execution_count": 27,
   "id": "36083b4d-d4d5-41eb-9f14-3ab127238109",
   "metadata": {},
   "outputs": [
    {
     "name": "stdout",
     "output_type": "stream",
     "text": [
      "\n",
      "Kurtosis:\n",
      " sepal length (cm)   -0.552064\n",
      "sepal width (cm)     0.228249\n",
      "petal length (cm)   -1.402103\n",
      "petal width (cm)    -1.340604\n",
      "dtype: float64\n"
     ]
    }
   ],
   "source": [
    "print(\"\\nKurtosis:\\n\", df.kurt())\n"
   ]
  },
  {
   "cell_type": "markdown",
   "id": "cf02b21b-5de8-4d74-984c-882e1413e7f6",
   "metadata": {},
   "source": [
    "# Performing Inferential Statistics\n"
   ]
  },
  {
   "cell_type": "code",
   "execution_count": 29,
   "id": "8158f875-3307-4e9f-8605-344c3dcd4247",
   "metadata": {},
   "outputs": [
    {
     "name": "stdout",
     "output_type": "stream",
     "text": [
      "T-Statistic: 85.68585344251181\n",
      "P-Value: 1.1689659678846205e-128\n"
     ]
    }
   ],
   "source": [
    "from scipy import stats\n",
    "\n",
    "# Example data: Sepal length values\n",
    "sep_length = df['sepal length (cm)']\n",
    "\n",
    "# Hypothetical population mean for Sepal length\n",
    "population_mean = 0.05\n",
    "\n",
    "# Perform one-sample t-test\n",
    "t_stat, p_value = stats.ttest_1samp(sep_length, population_mean)\n",
    "\n",
    "print(f\"T-Statistic: {t_stat}\")\n",
    "print(f\"P-Value: {p_value}\")\n"
   ]
  },
  {
   "cell_type": "markdown",
   "id": "07a56d3f-d221-4cf7-8147-43635f01eb0c",
   "metadata": {},
   "source": [
    "# Confidence Intervals"
   ]
  },
  {
   "cell_type": "code",
   "execution_count": 31,
   "id": "ee5f4ade-31ff-457e-b482-ff3609f49e02",
   "metadata": {},
   "outputs": [
    {
     "name": "stdout",
     "output_type": "stream",
     "text": [
      "95% Confidence Interval for Sepal length: (5.710817588579892, 5.9758490780867755)\n"
     ]
    }
   ],
   "source": [
    "import numpy as np\n",
    "from scipy import stats\n",
    "\n",
    "# Sample mean and standard error for Sepal length\n",
    "sample_mean = np.mean(sep_length)\n",
    "standard_error = stats.sem(sep_length)\n",
    "# Compute 95% confidence interval for Sepal length\n",
    "confidence_interval = stats.norm.interval(0.95, loc=sample_mean, scale=standard_error)\n",
    "\n",
    "print(f\"95% Confidence Interval for Sepal length: {confidence_interval}\")"
   ]
  },
  {
   "cell_type": "markdown",
   "id": "f3edb3eb-c3ae-415e-86e8-886042b17359",
   "metadata": {},
   "source": [
    "# Regression Analysis\n"
   ]
  },
  {
   "cell_type": "code",
   "execution_count": 33,
   "id": "5f6c6c39-c798-4ab3-82f4-4c682ef475b3",
   "metadata": {},
   "outputs": [
    {
     "name": "stdout",
     "output_type": "stream",
     "text": [
      "                            OLS Regression Results                            \n",
      "==============================================================================\n",
      "Dep. Variable:       sepal width (cm)   R-squared:                       0.014\n",
      "Model:                            OLS   Adj. R-squared:                  0.007\n",
      "Method:                 Least Squares   F-statistic:                     2.074\n",
      "Date:                Mon, 09 Sep 2024   Prob (F-statistic):              0.152\n",
      "Time:                        14:31:25   Log-Likelihood:                -86.732\n",
      "No. Observations:                 150   AIC:                             177.5\n",
      "Df Residuals:                     148   BIC:                             183.5\n",
      "Df Model:                           1                                         \n",
      "Covariance Type:            nonrobust                                         \n",
      "=====================================================================================\n",
      "                        coef    std err          t      P>|t|      [0.025      0.975]\n",
      "-------------------------------------------------------------------------------------\n",
      "const                 3.4189      0.254     13.484      0.000       2.918       3.920\n",
      "sepal length (cm)    -0.0619      0.043     -1.440      0.152      -0.147       0.023\n",
      "==============================================================================\n",
      "Omnibus:                        2.474   Durbin-Watson:                   1.263\n",
      "Prob(Omnibus):                  0.290   Jarque-Bera (JB):                1.994\n",
      "Skew:                           0.243   Prob(JB):                        0.369\n",
      "Kurtosis:                       3.288   Cond. No.                         43.4\n",
      "==============================================================================\n",
      "\n",
      "Notes:\n",
      "[1] Standard Errors assume that the covariance matrix of the errors is correctly specified.\n"
     ]
    }
   ],
   "source": [
    "import statsmodels.api as sm\n",
    "\n",
    "# Define independent variable (add constant for intercept)\n",
    "X = sm.add_constant(df['sepal length (cm)'])\n",
    "\n",
    "# Define dependent variable\n",
    "y = df['sepal width (cm)']\n",
    "\n",
    "# Fit linear regression model\n",
    "model = sm.OLS(y, X).fit()\n",
    "\n",
    "# Print model summary\n",
    "print(model.summary())"
   ]
  },
  {
   "cell_type": "code",
   "execution_count": null,
   "id": "3f109bdd-f8d8-4ba1-baa0-b97328a5f3b8",
   "metadata": {},
   "outputs": [],
   "source": []
  }
 ],
 "metadata": {
  "kernelspec": {
   "display_name": "Python 3 (ipykernel)",
   "language": "python",
   "name": "python3"
  },
  "language_info": {
   "codemirror_mode": {
    "name": "ipython",
    "version": 3
   },
   "file_extension": ".py",
   "mimetype": "text/x-python",
   "name": "python",
   "nbconvert_exporter": "python",
   "pygments_lexer": "ipython3",
   "version": "3.12.4"
  }
 },
 "nbformat": 4,
 "nbformat_minor": 5
}
